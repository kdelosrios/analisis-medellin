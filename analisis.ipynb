{
 "cells": [
  {
   "cell_type": "code",
   "execution_count": 9,
   "id": "10394b07",
   "metadata": {},
   "outputs": [
    {
     "name": "stderr",
     "output_type": "stream",
     "text": [
      "c:\\Users\\User\\OneDrive - CELSIA S.A E.S.P\\Documentos\\Aprendiendo analisis de datos\\Analisis-datos-medellin\\src\\cargar_datos.py:5: FutureWarning: DataFrame.applymap has been deprecated. Use DataFrame.map instead.\n",
      "  df= df.astype(str).applymap(lambda x: x.strip())\n",
      "c:\\Users\\User\\OneDrive - CELSIA S.A E.S.P\\Documentos\\Aprendiendo analisis de datos\\Analisis-datos-medellin\\src\\cargar_datos.py:5: FutureWarning: DataFrame.applymap has been deprecated. Use DataFrame.map instead.\n",
      "  df= df.astype(str).applymap(lambda x: x.strip())\n",
      "c:\\Users\\User\\OneDrive - CELSIA S.A E.S.P\\Documentos\\Aprendiendo analisis de datos\\Analisis-datos-medellin\\src\\cargar_datos.py:5: FutureWarning: DataFrame.applymap has been deprecated. Use DataFrame.map instead.\n",
      "  df= df.astype(str).applymap(lambda x: x.strip())\n"
     ]
    },
    {
     "name": "stdout",
     "output_type": "stream",
     "text": [
      "<class 'pandas.core.frame.DataFrame'>\n",
      "RangeIndex: 20391 entries, 0 to 20390\n",
      "Columns: 329 entries, NoForm to FEP\n",
      "dtypes: object(329)\n",
      "memory usage: 51.2+ MB\n"
     ]
    },
    {
     "name": "stderr",
     "output_type": "stream",
     "text": [
      "c:\\Users\\User\\OneDrive - CELSIA S.A E.S.P\\Documentos\\Aprendiendo analisis de datos\\Analisis-datos-medellin\\src\\traduccion.py:7: FutureWarning: DataFrame.applymap has been deprecated. Use DataFrame.map instead.\n",
      "  df_datos= df_datos.astype(str).applymap(lambda x: x.strip())\n"
     ]
    },
    {
     "name": "stdout",
     "output_type": "stream",
     "text": [
      "0        1\n",
      "1        2\n",
      "2        1\n",
      "3        1\n",
      "4        1\n",
      "        ..\n",
      "20386    1\n",
      "20387    1\n",
      "20388    1\n",
      "20389    1\n",
      "20390    1\n",
      "Name: W.12, Length: 20391, dtype: object\n",
      "✅ Archivo 'datos_actuales.xlsx' guardado correctamente.\n"
     ]
    }
   ],
   "source": [
    "#Librerias\n",
    "import pandas as pd\n",
    "\n",
    "from src.cargar_datos import cargar_csv\n",
    "from src.procesamiento import estandarizar_diccionario\n",
    "from src.traduccion import traducir_columnas\n",
    "\n",
    "\n",
    "\n",
    "\n",
    "df_datos= cargar_csv(\"data/ECV_2024.csv\",sep=\";\")\n",
    "df_diccionario1= cargar_csv(\"data/informacion _variable.csv\", sep=\";\",header=2)\n",
    "df_diccionario2= cargar_csv(\"data/valores_variables.csv\",  sep=\";\", header=2)\n",
    "\n",
    "# Analisis de tabla principal\n",
    "df_datos.head()\n",
    "df_datos.shape\n",
    "df_datos.info()\n",
    "df_datos.describe()\n",
    "df_datos.select_dtypes(include=\"object\").head()\n",
    "\n",
    "\n",
    "\n",
    "# Estandarizar valores\n",
    "df_diccionario2= estandarizar_diccionario(df_diccionario2)\n",
    "\n",
    "#Traducir valores en la Bd data\n",
    "df_datos = traducir_columnas(df_datos, df_diccionario2)\n",
    "\n",
    "\n",
    "#df_datos.head()\n",
    "\n",
    "\n",
    "df_datos.to_excel(\"datos_actuales.xlsx\", index=False)\n",
    "print(\"✅ Archivo 'datos_actuales.xlsx' guardado correctamente.\")"
   ]
  },
  {
   "cell_type": "code",
   "execution_count": null,
   "id": "cef1e847",
   "metadata": {},
   "outputs": [],
   "source": []
  },
  {
   "cell_type": "code",
   "execution_count": null,
   "id": "7454b776",
   "metadata": {},
   "outputs": [],
   "source": []
  }
 ],
 "metadata": {
  "kernelspec": {
   "display_name": "Python 3",
   "language": "python",
   "name": "python3"
  },
  "language_info": {
   "codemirror_mode": {
    "name": "ipython",
    "version": 3
   },
   "file_extension": ".py",
   "mimetype": "text/x-python",
   "name": "python",
   "nbconvert_exporter": "python",
   "pygments_lexer": "ipython3",
   "version": "3.13.5"
  }
 },
 "nbformat": 4,
 "nbformat_minor": 5
}
